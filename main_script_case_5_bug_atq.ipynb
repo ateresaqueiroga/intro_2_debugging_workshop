{
 "cells": [
  {
   "cell_type": "markdown",
   "id": "af635530-25b8-4b11-ab5c-e35dac974858",
   "metadata": {},
   "source": [
    "# Python Notebook with Various Bugs"
   ]
  },
  {
   "cell_type": "code",
   "execution_count": 2,
   "id": "70574bef-37d9-4c12-a8f7-ca418f127992",
   "metadata": {},
   "outputs": [
    {
     "ename": "ModuleNotFoundError",
     "evalue": "No module named 'pandas'",
     "output_type": "error",
     "traceback": [
      "\u001b[0;31m---------------------------------------------------------------------------\u001b[0m",
      "\u001b[0;31mModuleNotFoundError\u001b[0m                       Traceback (most recent call last)",
      "Cell \u001b[0;32mIn[2], line 2\u001b[0m\n\u001b[1;32m      1\u001b[0m \u001b[38;5;66;03m# Import necessary libraries\u001b[39;00m\n\u001b[0;32m----> 2\u001b[0m \u001b[38;5;28;01mimport\u001b[39;00m \u001b[38;5;21;01mpandas\u001b[39;00m \u001b[38;5;28;01mas\u001b[39;00m \u001b[38;5;21;01mpd\u001b[39;00m\n",
      "\u001b[0;31mModuleNotFoundError\u001b[0m: No module named 'pandas'"
     ]
    }
   ],
   "source": [
    "# Import necessary libraries\n",
    "import pandas as pd"
   ]
  },
  {
   "cell_type": "markdown",
   "id": "acc90355-f2b2-4791-878b-5112061d01f1",
   "metadata": {},
   "source": [
    "# Bug 1: Logical error in DataFrame operation"
   ]
  },
  {
   "cell_type": "code",
   "execution_count": null,
   "id": "651a5374-8bb6-4114-9ef1-4ac1e14b20da",
   "metadata": {},
   "outputs": [],
   "source": [
    "# Create a DataFrame\n",
    "data = {'A': [1, 2, 3, 4, 5],\n",
    "        'B': [6, 7, 8, 9, 10]}\n",
    "df = pd.DataFrame(data)\n",
    "\n",
    "# Incorrect logical operator in filtering\n",
    "filtered_df = df[df['A'] > 3 & df['B'] > 7]  # Logical error: Incorrect logical operator\n",
    "print(\"Filtered DataFrame:\")\n",
    "print(filtered_df)"
   ]
  },
  {
   "cell_type": "markdown",
   "id": "e35d5ca0-f0c0-4557-aa22-90f20cd5dcb4",
   "metadata": {},
   "source": [
    "# Bug 2: Mispelling of column name causing missing values"
   ]
  },
  {
   "cell_type": "code",
   "execution_count": null,
   "id": "64296305-eb56-492b-95fb-359d1e94e052",
   "metadata": {},
   "outputs": [],
   "source": [
    "# Mispelling of column name\n",
    "df['C'] = df['C'] + 1  # Mispelling of column name 'C' instead of 'B'\n",
    "print(\"Updated DataFrame:\")\n",
    "print(df)"
   ]
  },
  {
   "cell_type": "markdown",
   "id": "916fe52f-dfc6-4f00-8da2-72a09ad173ce",
   "metadata": {},
   "source": [
    "# Bug 3: Too many indices to parse in a for loop"
   ]
  },
  {
   "cell_type": "code",
   "execution_count": null,
   "id": "2a903c90-a758-46df-8c63-ad96dc7107c6",
   "metadata": {},
   "outputs": [],
   "source": [
    "# Create a list of numbers\n",
    "numbers = list(range(10))\n",
    "\n",
    "# Incorrect loop condition causing IndexError\n",
    "for i in range(11):  # Incorrect loop condition\n",
    "    print(numbers[i])"
   ]
  },
  {
   "cell_type": "code",
   "execution_count": null,
   "id": "4185135a-3ab4-4188-ba52-994288166084",
   "metadata": {},
   "outputs": [],
   "source": []
  }
 ],
 "metadata": {
  "kernelspec": {
   "display_name": "Python 3 (ipykernel)",
   "language": "python",
   "name": "python3"
  },
  "language_info": {
   "codemirror_mode": {
    "name": "ipython",
    "version": 3
   },
   "file_extension": ".py",
   "mimetype": "text/x-python",
   "name": "python",
   "nbconvert_exporter": "python",
   "pygments_lexer": "ipython3",
   "version": "3.10.13"
  }
 },
 "nbformat": 4,
 "nbformat_minor": 5
}
